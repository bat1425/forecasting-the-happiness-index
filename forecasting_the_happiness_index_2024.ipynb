{
 "cells": [
  {
   "metadata": {},
   "cell_type": "markdown",
   "source": [
    "># <center>Аналитический отчёт: прогнозирование индекса счастья</center>\n",
    "\n",
    "<center><img src=\"c592cd7e5df0bfaa574011387f6e84e4.jpg\" width=\"500\"></center>\n",
    "\n",
    "># Описание данных\n",
    "\n",
    "> Данные были разбиты на две группы:\n",
    "- **обучающий набор (train.csv)**\n",
    "- **тестовый набор (test.csv)**\n",
    "\n",
    "Обучающий набор должен использоваться для построения моделей машинного обучения.Тестовый набор используется для проверки того, насколько хорошо ваша модель работает на неизвестных данных."
   ],
   "id": "6b2ddef2d5dcb0b0"
  },
  {
   "metadata": {},
   "cell_type": "markdown",
   "source": [
    "># <center>План проекта<center>\n",
    ">\n",
    ">* __Часть 1 — Подготовка и исследование данных__\n",
    ">    * 1.1 Загрузка библиотек\n",
    ">    * 1.2 Загрузка данных\n",
    ">    * 1.3 Первичный осмотр\n",
    ">    * 1.4 Исследовательский анализ данных (EDA)\n",
    ">        * 1.4.1 Корреляционный анализ\n",
    ">        * 1.4.2 Визуализация распределений признаков\n",
    ">    * 1.5 Предобработка данных\n",
    ">* __Часть 2 — Обучение моделей и сравнение__\n",
    ">    * 2.1 Обучение и оценка качества (MAE, RMSE, R²)\n",
    ">    * 2.4 Сравнение моделей\n",
    ">    * 2.5 Важность признаков (feature importances)\n",
    ">* __Часть 3 — Финальный прогноз и сохранение результата__\n",
    ">    * 4.1 Прогноз на тестовом наборе\n",
    ">    * 4.2 Формирование файла submission.csv\n",
    ">    * 4.3 Выводы по проекту\n"
   ],
   "id": "18faf39348bbd228"
  },
  {
   "metadata": {},
   "cell_type": "markdown",
   "source": "># <center>__Часть 1 — Подготовка и исследование данных__<center>",
   "id": "5c4264e78651de97"
  },
  {
   "metadata": {},
   "cell_type": "markdown",
   "source": "># 1.1 Загрузка библиотек\n",
   "id": "ad232fdcff105bc2"
  },
  {
   "metadata": {
    "ExecuteTime": {
     "end_time": "2025-05-22T05:13:51.754347Z",
     "start_time": "2025-05-22T05:13:40.260940Z"
    }
   },
   "cell_type": "code",
   "source": [
    "import pandas as pd\n",
    "import numpy as np\n",
    "import matplotlib.pyplot as plt\n",
    "import seaborn as sns\n",
    "\n",
    "from sklearn.model_selection import train_test_split\n",
    "from sklearn.preprocessing import OneHotEncoder\n",
    "from sklearn.compose import ColumnTransformer\n",
    "from sklearn.pipeline import Pipeline\n",
    "from sklearn.metrics import mean_absolute_error, mean_squared_error, r2_score\n",
    "\n",
    "from sklearn.linear_model import LinearRegression\n",
    "from sklearn.ensemble import RandomForestRegressor\n",
    "from xgboost import XGBRegressor\n"
   ],
   "id": "d8d4ed2202abb9f4",
   "outputs": [],
   "execution_count": 1
  },
  {
   "metadata": {},
   "cell_type": "markdown",
   "source": "># 1.2 Загрузка данных",
   "id": "b67fff7845332ea3"
  },
  {
   "metadata": {
    "ExecuteTime": {
     "end_time": "2025-05-22T05:13:52.465873Z",
     "start_time": "2025-05-22T05:13:51.902347Z"
    }
   },
   "cell_type": "code",
   "source": [
    "train = pd.read_csv(\"train.csv\")\n",
    "test = pd.read_csv(\"test.csv\")"
   ],
   "id": "bd093eb92662663c",
   "outputs": [],
   "execution_count": 2
  },
  {
   "metadata": {},
   "cell_type": "markdown",
   "source": "># 1.3 Первичный осмотр",
   "id": "7dc45a73446a5617"
  },
  {
   "metadata": {
    "ExecuteTime": {
     "end_time": "2025-05-22T05:13:55.702513Z",
     "start_time": "2025-05-22T05:13:55.273750Z"
    }
   },
   "cell_type": "code",
   "source": "train",
   "id": "e01149b374c18907",
   "outputs": [
    {
     "data": {
      "text/plain": [
       "            City     Month  Year  Decibel_Level Traffic_Density  \\\n",
       "0       New York   January  2024             70            High   \n",
       "1    Los Angeles   January  2024             65          Medium   \n",
       "2        Chicago   January  2024             60          Medium   \n",
       "3         London   January  2024             55            High   \n",
       "4          Paris   January  2024             60            High   \n",
       "..           ...       ...   ...            ...             ...   \n",
       "540    St Arnaud  November  2029             55             Low   \n",
       "541    Murchison  December  2029             60          Medium   \n",
       "542      Reefton  December  2029             55             Low   \n",
       "543    Greymouth  December  2029             50             Low   \n",
       "544     Hokitika  December  2029             55             Low   \n",
       "\n",
       "     Green_Space_Area  Air_Quality_Index  Happiness_Score  \\\n",
       "0                  35                 40              6.5   \n",
       "1                  40                 50              6.8   \n",
       "2                  30                 55              7.0   \n",
       "3                  50                 60              7.2   \n",
       "4                  45                 65              6.9   \n",
       "..                ...                ...              ...   \n",
       "540              2405                 20           -121.7   \n",
       "541              2410                 35           -122.0   \n",
       "542              2415                 30           -122.3   \n",
       "543              2420                 25           -122.6   \n",
       "544              2425                 20           -122.9   \n",
       "\n",
       "     Cost_of_Living_Index  Healthcare_Index  \n",
       "0                     100                80  \n",
       "1                      90                75  \n",
       "2                      85                70  \n",
       "3                     110                85  \n",
       "4                      95                80  \n",
       "..                    ...               ...  \n",
       "540                    25                98  \n",
       "541                    20                95  \n",
       "542                    25                96  \n",
       "543                    20                97  \n",
       "544                    25                98  \n",
       "\n",
       "[545 rows x 10 columns]"
      ],
      "text/html": [
       "<div>\n",
       "<style scoped>\n",
       "    .dataframe tbody tr th:only-of-type {\n",
       "        vertical-align: middle;\n",
       "    }\n",
       "\n",
       "    .dataframe tbody tr th {\n",
       "        vertical-align: top;\n",
       "    }\n",
       "\n",
       "    .dataframe thead th {\n",
       "        text-align: right;\n",
       "    }\n",
       "</style>\n",
       "<table border=\"1\" class=\"dataframe\">\n",
       "  <thead>\n",
       "    <tr style=\"text-align: right;\">\n",
       "      <th></th>\n",
       "      <th>City</th>\n",
       "      <th>Month</th>\n",
       "      <th>Year</th>\n",
       "      <th>Decibel_Level</th>\n",
       "      <th>Traffic_Density</th>\n",
       "      <th>Green_Space_Area</th>\n",
       "      <th>Air_Quality_Index</th>\n",
       "      <th>Happiness_Score</th>\n",
       "      <th>Cost_of_Living_Index</th>\n",
       "      <th>Healthcare_Index</th>\n",
       "    </tr>\n",
       "  </thead>\n",
       "  <tbody>\n",
       "    <tr>\n",
       "      <th>0</th>\n",
       "      <td>New York</td>\n",
       "      <td>January</td>\n",
       "      <td>2024</td>\n",
       "      <td>70</td>\n",
       "      <td>High</td>\n",
       "      <td>35</td>\n",
       "      <td>40</td>\n",
       "      <td>6.5</td>\n",
       "      <td>100</td>\n",
       "      <td>80</td>\n",
       "    </tr>\n",
       "    <tr>\n",
       "      <th>1</th>\n",
       "      <td>Los Angeles</td>\n",
       "      <td>January</td>\n",
       "      <td>2024</td>\n",
       "      <td>65</td>\n",
       "      <td>Medium</td>\n",
       "      <td>40</td>\n",
       "      <td>50</td>\n",
       "      <td>6.8</td>\n",
       "      <td>90</td>\n",
       "      <td>75</td>\n",
       "    </tr>\n",
       "    <tr>\n",
       "      <th>2</th>\n",
       "      <td>Chicago</td>\n",
       "      <td>January</td>\n",
       "      <td>2024</td>\n",
       "      <td>60</td>\n",
       "      <td>Medium</td>\n",
       "      <td>30</td>\n",
       "      <td>55</td>\n",
       "      <td>7.0</td>\n",
       "      <td>85</td>\n",
       "      <td>70</td>\n",
       "    </tr>\n",
       "    <tr>\n",
       "      <th>3</th>\n",
       "      <td>London</td>\n",
       "      <td>January</td>\n",
       "      <td>2024</td>\n",
       "      <td>55</td>\n",
       "      <td>High</td>\n",
       "      <td>50</td>\n",
       "      <td>60</td>\n",
       "      <td>7.2</td>\n",
       "      <td>110</td>\n",
       "      <td>85</td>\n",
       "    </tr>\n",
       "    <tr>\n",
       "      <th>4</th>\n",
       "      <td>Paris</td>\n",
       "      <td>January</td>\n",
       "      <td>2024</td>\n",
       "      <td>60</td>\n",
       "      <td>High</td>\n",
       "      <td>45</td>\n",
       "      <td>65</td>\n",
       "      <td>6.9</td>\n",
       "      <td>95</td>\n",
       "      <td>80</td>\n",
       "    </tr>\n",
       "    <tr>\n",
       "      <th>...</th>\n",
       "      <td>...</td>\n",
       "      <td>...</td>\n",
       "      <td>...</td>\n",
       "      <td>...</td>\n",
       "      <td>...</td>\n",
       "      <td>...</td>\n",
       "      <td>...</td>\n",
       "      <td>...</td>\n",
       "      <td>...</td>\n",
       "      <td>...</td>\n",
       "    </tr>\n",
       "    <tr>\n",
       "      <th>540</th>\n",
       "      <td>St Arnaud</td>\n",
       "      <td>November</td>\n",
       "      <td>2029</td>\n",
       "      <td>55</td>\n",
       "      <td>Low</td>\n",
       "      <td>2405</td>\n",
       "      <td>20</td>\n",
       "      <td>-121.7</td>\n",
       "      <td>25</td>\n",
       "      <td>98</td>\n",
       "    </tr>\n",
       "    <tr>\n",
       "      <th>541</th>\n",
       "      <td>Murchison</td>\n",
       "      <td>December</td>\n",
       "      <td>2029</td>\n",
       "      <td>60</td>\n",
       "      <td>Medium</td>\n",
       "      <td>2410</td>\n",
       "      <td>35</td>\n",
       "      <td>-122.0</td>\n",
       "      <td>20</td>\n",
       "      <td>95</td>\n",
       "    </tr>\n",
       "    <tr>\n",
       "      <th>542</th>\n",
       "      <td>Reefton</td>\n",
       "      <td>December</td>\n",
       "      <td>2029</td>\n",
       "      <td>55</td>\n",
       "      <td>Low</td>\n",
       "      <td>2415</td>\n",
       "      <td>30</td>\n",
       "      <td>-122.3</td>\n",
       "      <td>25</td>\n",
       "      <td>96</td>\n",
       "    </tr>\n",
       "    <tr>\n",
       "      <th>543</th>\n",
       "      <td>Greymouth</td>\n",
       "      <td>December</td>\n",
       "      <td>2029</td>\n",
       "      <td>50</td>\n",
       "      <td>Low</td>\n",
       "      <td>2420</td>\n",
       "      <td>25</td>\n",
       "      <td>-122.6</td>\n",
       "      <td>20</td>\n",
       "      <td>97</td>\n",
       "    </tr>\n",
       "    <tr>\n",
       "      <th>544</th>\n",
       "      <td>Hokitika</td>\n",
       "      <td>December</td>\n",
       "      <td>2029</td>\n",
       "      <td>55</td>\n",
       "      <td>Low</td>\n",
       "      <td>2425</td>\n",
       "      <td>20</td>\n",
       "      <td>-122.9</td>\n",
       "      <td>25</td>\n",
       "      <td>98</td>\n",
       "    </tr>\n",
       "  </tbody>\n",
       "</table>\n",
       "<p>545 rows × 10 columns</p>\n",
       "</div>"
      ]
     },
     "execution_count": 3,
     "metadata": {},
     "output_type": "execute_result"
    }
   ],
   "execution_count": 3
  },
  {
   "metadata": {
    "ExecuteTime": {
     "end_time": "2025-05-22T05:13:56.241544Z",
     "start_time": "2025-05-22T05:13:55.923617Z"
    }
   },
   "cell_type": "code",
   "source": "train.info()",
   "id": "ad8029afc5d7e03b",
   "outputs": [
    {
     "name": "stdout",
     "output_type": "stream",
     "text": [
      "<class 'pandas.core.frame.DataFrame'>\n",
      "RangeIndex: 545 entries, 0 to 544\n",
      "Data columns (total 10 columns):\n",
      " #   Column                Non-Null Count  Dtype  \n",
      "---  ------                --------------  -----  \n",
      " 0   City                  545 non-null    object \n",
      " 1   Month                 545 non-null    object \n",
      " 2   Year                  545 non-null    int64  \n",
      " 3   Decibel_Level         545 non-null    int64  \n",
      " 4   Traffic_Density       545 non-null    object \n",
      " 5   Green_Space_Area      545 non-null    int64  \n",
      " 6   Air_Quality_Index     545 non-null    int64  \n",
      " 7   Happiness_Score       545 non-null    float64\n",
      " 8   Cost_of_Living_Index  545 non-null    int64  \n",
      " 9   Healthcare_Index      545 non-null    int64  \n",
      "dtypes: float64(1), int64(6), object(3)\n",
      "memory usage: 42.7+ KB\n"
     ]
    }
   ],
   "execution_count": 4
  },
  {
   "metadata": {},
   "cell_type": "markdown",
   "source": [
    "- **Категориальные признаки:** City (город), Month (месяц), Traffic_Density (плотность трафика).\n",
    "- **Числовые признаки:** Year (год), Decibel_Level (уровень шума), Green_Space_Area (площадь зелёных зон), Air_Quality_Index (качество воздуха), Cost_of_Living_Index (стоимость жизни), Healthcare_Index (качество медицины).\n",
    "- **Целевая переменная:** Happiness_Score"
   ],
   "id": "81949d4f0f582163"
  },
  {
   "metadata": {
    "ExecuteTime": {
     "end_time": "2025-05-22T05:14:00.211359Z",
     "start_time": "2025-05-22T05:13:59.860305Z"
    }
   },
   "cell_type": "code",
   "source": "train.describe()",
   "id": "33e1155c36244a10",
   "outputs": [
    {
     "data": {
      "text/plain": [
       "              Year  Decibel_Level  Green_Space_Area  Air_Quality_Index  \\\n",
       "count   545.000000     545.000000        545.000000         545.000000   \n",
       "mean   2026.082569      56.779817       1085.366972          38.036697   \n",
       "std       1.652363       6.856402        756.993165          36.300656   \n",
       "min    2024.000000      50.000000          5.000000           5.000000   \n",
       "25%    2025.000000      55.000000        385.000000          25.000000   \n",
       "50%    2026.000000      55.000000       1065.000000          30.000000   \n",
       "75%    2027.000000      60.000000       1745.000000          35.000000   \n",
       "max    2029.000000      90.000000       2425.000000         245.000000   \n",
       "\n",
       "       Happiness_Score  Cost_of_Living_Index  Healthcare_Index  \n",
       "count       545.000000            545.000000        545.000000  \n",
       "mean        -44.865505             30.458716         93.086239  \n",
       "std          42.407240             21.082180         10.550034  \n",
       "min        -122.900000             20.000000         35.000000  \n",
       "25%         -82.100000             20.000000         95.000000  \n",
       "50%         -41.300000             25.000000         96.000000  \n",
       "75%          -0.500000             25.000000         97.000000  \n",
       "max           8.600000            130.000000         99.000000  "
      ],
      "text/html": [
       "<div>\n",
       "<style scoped>\n",
       "    .dataframe tbody tr th:only-of-type {\n",
       "        vertical-align: middle;\n",
       "    }\n",
       "\n",
       "    .dataframe tbody tr th {\n",
       "        vertical-align: top;\n",
       "    }\n",
       "\n",
       "    .dataframe thead th {\n",
       "        text-align: right;\n",
       "    }\n",
       "</style>\n",
       "<table border=\"1\" class=\"dataframe\">\n",
       "  <thead>\n",
       "    <tr style=\"text-align: right;\">\n",
       "      <th></th>\n",
       "      <th>Year</th>\n",
       "      <th>Decibel_Level</th>\n",
       "      <th>Green_Space_Area</th>\n",
       "      <th>Air_Quality_Index</th>\n",
       "      <th>Happiness_Score</th>\n",
       "      <th>Cost_of_Living_Index</th>\n",
       "      <th>Healthcare_Index</th>\n",
       "    </tr>\n",
       "  </thead>\n",
       "  <tbody>\n",
       "    <tr>\n",
       "      <th>count</th>\n",
       "      <td>545.000000</td>\n",
       "      <td>545.000000</td>\n",
       "      <td>545.000000</td>\n",
       "      <td>545.000000</td>\n",
       "      <td>545.000000</td>\n",
       "      <td>545.000000</td>\n",
       "      <td>545.000000</td>\n",
       "    </tr>\n",
       "    <tr>\n",
       "      <th>mean</th>\n",
       "      <td>2026.082569</td>\n",
       "      <td>56.779817</td>\n",
       "      <td>1085.366972</td>\n",
       "      <td>38.036697</td>\n",
       "      <td>-44.865505</td>\n",
       "      <td>30.458716</td>\n",
       "      <td>93.086239</td>\n",
       "    </tr>\n",
       "    <tr>\n",
       "      <th>std</th>\n",
       "      <td>1.652363</td>\n",
       "      <td>6.856402</td>\n",
       "      <td>756.993165</td>\n",
       "      <td>36.300656</td>\n",
       "      <td>42.407240</td>\n",
       "      <td>21.082180</td>\n",
       "      <td>10.550034</td>\n",
       "    </tr>\n",
       "    <tr>\n",
       "      <th>min</th>\n",
       "      <td>2024.000000</td>\n",
       "      <td>50.000000</td>\n",
       "      <td>5.000000</td>\n",
       "      <td>5.000000</td>\n",
       "      <td>-122.900000</td>\n",
       "      <td>20.000000</td>\n",
       "      <td>35.000000</td>\n",
       "    </tr>\n",
       "    <tr>\n",
       "      <th>25%</th>\n",
       "      <td>2025.000000</td>\n",
       "      <td>55.000000</td>\n",
       "      <td>385.000000</td>\n",
       "      <td>25.000000</td>\n",
       "      <td>-82.100000</td>\n",
       "      <td>20.000000</td>\n",
       "      <td>95.000000</td>\n",
       "    </tr>\n",
       "    <tr>\n",
       "      <th>50%</th>\n",
       "      <td>2026.000000</td>\n",
       "      <td>55.000000</td>\n",
       "      <td>1065.000000</td>\n",
       "      <td>30.000000</td>\n",
       "      <td>-41.300000</td>\n",
       "      <td>25.000000</td>\n",
       "      <td>96.000000</td>\n",
       "    </tr>\n",
       "    <tr>\n",
       "      <th>75%</th>\n",
       "      <td>2027.000000</td>\n",
       "      <td>60.000000</td>\n",
       "      <td>1745.000000</td>\n",
       "      <td>35.000000</td>\n",
       "      <td>-0.500000</td>\n",
       "      <td>25.000000</td>\n",
       "      <td>97.000000</td>\n",
       "    </tr>\n",
       "    <tr>\n",
       "      <th>max</th>\n",
       "      <td>2029.000000</td>\n",
       "      <td>90.000000</td>\n",
       "      <td>2425.000000</td>\n",
       "      <td>245.000000</td>\n",
       "      <td>8.600000</td>\n",
       "      <td>130.000000</td>\n",
       "      <td>99.000000</td>\n",
       "    </tr>\n",
       "  </tbody>\n",
       "</table>\n",
       "</div>"
      ]
     },
     "execution_count": 5,
     "metadata": {},
     "output_type": "execute_result"
    }
   ],
   "execution_count": 5
  },
  {
   "metadata": {
    "ExecuteTime": {
     "end_time": "2025-05-22T05:14:00.447066Z",
     "start_time": "2025-05-22T05:14:00.436870Z"
    }
   },
   "cell_type": "code",
   "source": "train.isnull().sum()",
   "id": "304857cd229c7696",
   "outputs": [
    {
     "data": {
      "text/plain": [
       "City                    0\n",
       "Month                   0\n",
       "Year                    0\n",
       "Decibel_Level           0\n",
       "Traffic_Density         0\n",
       "Green_Space_Area        0\n",
       "Air_Quality_Index       0\n",
       "Happiness_Score         0\n",
       "Cost_of_Living_Index    0\n",
       "Healthcare_Index        0\n",
       "dtype: int64"
      ]
     },
     "execution_count": 6,
     "metadata": {},
     "output_type": "execute_result"
    }
   ],
   "execution_count": 6
  },
  {
   "metadata": {},
   "cell_type": "markdown",
   "source": "- Проверено отсутствие пропусков во всех столбцах (методы **info()** и **isnull()** показали, что все значения заполнены). Первичный просмотр статистики по числовым признакам (**describe()**) выявил широкий разброс: например, минимальное значение **Happiness_Score** в тренировочном наборе – около **-122.9**, максимальное **+8.6**, среднее около **-44.9**. Отличительная особенность данных – значительное отрицательное смещение (большинство значений индекса счастья отрицательные, ближе к 0), что будет учтено при анализе.",
   "id": "c3728ecece7f6c8"
  },
  {
   "metadata": {},
   "cell_type": "markdown",
   "source": "># 1.4 Исследовательский анализ данных (EDA)",
   "id": "b42ffedd60000346"
  },
  {
   "metadata": {},
   "cell_type": "markdown",
   "source": "># 1.4.1 Корреляционный анализ",
   "id": "bb64a751551bf101"
  },
  {
   "metadata": {
    "ExecuteTime": {
     "end_time": "2025-05-22T05:14:03.319344Z",
     "start_time": "2025-05-22T05:14:01.256348Z"
    }
   },
   "cell_type": "code",
   "source": [
    "plt.figure(figsize=(10, 6))\n",
    "sns.heatmap(train.corr(numeric_only=True), annot=True, cmap='coolwarm')\n",
    "plt.title(\"Корреляция между признаками\")\n",
    "plt.show()\n"
   ],
   "id": "6627f6e1d587ab62",
   "outputs": [
    {
     "data": {
      "text/plain": [
       "<Figure size 1000x600 with 2 Axes>"
      ],
      "image/png": "[encoded data removed]"
     },
     "metadata": {},
     "output_type": "display_data"
    }
   ],
   "execution_count": 7
  },
  {
   "metadata": {},
   "cell_type": "markdown",
   "source": [
    "Построена матрица корреляций между числовыми признаками и целью. Выявлены сильные взаимосвязи:\n",
    "- **Green_Space_Area** и **Happiness_Score**: коэффициент корреляции ≈ -0.995 (очень сильная отрицательная связь). Это означает, что по мере увеличения площади зелёных зон индекс счастья резко падает в данных (что нетипично и возможно связано со структурой датасета).\n",
    "- **Year** и **Happiness_Score**: коэффициент ≈ -0.981 (по мере старения года – сильное снижение счастья).\n",
    "- **Cost_of_Living_Index** и **Happiness_Score**: ≈ +0.460 (чем выше стоимость жизни, тем выше индекс счастья).\n",
    "\n",
    "Остальные признаки показали менее выраженную корреляцию (например, Decibel_Level +0.30, Air_Quality_Index +0.34, Healthcare_Index -0.38)."
   ],
   "id": "9000c633ab490851"
  },
  {
   "metadata": {},
   "cell_type": "markdown",
   "source": "># 1.4.2 Визуализация распределений признаков",
   "id": "8e41a62388f4c485"
  },
  {
   "metadata": {
    "ExecuteTime": {
     "end_time": "2025-05-22T05:14:05.454259Z",
     "start_time": "2025-05-22T05:14:03.685644Z"
    }
   },
   "cell_type": "code",
   "source": [
    "sns.histplot(train[\"Happiness_Score\"], bins=15, kde=True)\n",
    "plt.title(\"Распределение индекса счастья\")\n",
    "plt.show()"
   ],
   "id": "26e9ce69a0ff72a4",
   "outputs": [
    {
     "data": {
      "text/plain": [
       "<Figure size 640x480 with 1 Axes>"
      ],
      "image/png": "[encoded data removed]"
     },
     "metadata": {},
     "output_type": "display_data"
    }
   ],
   "execution_count": 8
  },
  {
   "metadata": {},
   "cell_type": "markdown",
   "source": "># __Часть 2 — Предобработка данных__",
   "id": "5fe824eb368cd814"
  },
  {
   "metadata": {},
   "cell_type": "markdown",
   "source": "># 2.1 Обработка категориальных признаков (One-Hot Encoding)",
   "id": "794bc4362db9ff2d"
  },
  {
   "metadata": {
    "ExecuteTime": {
     "end_time": "2025-05-22T05:14:05.627419Z",
     "start_time": "2025-05-22T05:14:05.547672Z"
    }
   },
   "cell_type": "code",
   "source": [
    "X = train.drop(columns=[\"Happiness_Score\"])\n",
    "y = train[\"Happiness_Score\"]\n",
    "\n",
    "cat_cols = [\"City\", \"Month\", \"Traffic_Density\"]\n"
   ],
   "id": "8e8133f3f0a4ad17",
   "outputs": [],
   "execution_count": 9
  },
  {
   "metadata": {
    "ExecuteTime": {
     "end_time": "2025-05-22T05:14:06.077621Z",
     "start_time": "2025-05-22T05:14:05.663370Z"
    }
   },
   "cell_type": "code",
   "source": [
    "preprocessor = ColumnTransformer([\n",
    "    (\"cat\", OneHotEncoder(drop=\"first\", handle_unknown='ignore'), cat_cols)\n",
    "], remainder='passthrough')\n",
    "\n",
    "X_processed = preprocessor.fit_transform(X)\n",
    "test_processed = preprocessor.transform(test)"
   ],
   "id": "6142cd428bec3eef",
   "outputs": [
    {
     "name": "stderr",
     "output_type": "stream",
     "text": [
      "C:\\Users\\Odinaeva\\PyCharmMiscProject\\.venv\\Lib\\site-packages\\sklearn\\preprocessing\\_encoders.py:246: UserWarning: Found unknown categories in columns [0] during transform. These unknown categories will be encoded as all zeros\n",
      "  warnings.warn(\n"
     ]
    }
   ],
   "execution_count": 10
  },
  {
   "metadata": {},
   "cell_type": "markdown",
   "source": [
    ">Поскольку среди признаков есть категориальные, была проведена их подготовка: столбцы **City, Month, Traffic_Density** преобразованы через **One-Hot Encoding** (метод **OneHotEncoder** с параметром **handle_unknown='ignore'**), чтобы корректно учитывать все уровни категорий, включая возможные неизвестные в тесте. Остальные числовые признаки (**Year, Decibel_Level, Green_Space_Area, Air_Quality_Index, Cost_of_Living_Index, Healthcare_Index**) оставлены без изменений.\n",
    "\n",
    "Таким образом, итоговый набор признаков состоит из бинарных индикаторов городов, месяцев и уровней трафика, а также оригинальных числовых признаков. Это позволяет моделям работать только с числовыми данными. Предобработка осуществлена в единой трансформационной pipeline – сначала кодирование, затем подача результатов в регрессионные модели."
   ],
   "id": "dfc35783455b7a59"
  },
  {
   "metadata": {},
   "cell_type": "markdown",
   "source": [
    ">#  __Часть 2 — Обучение моделей и сравнение__\n",
    "># 2.1 Обучение и оценка качества (MAE, RMSE, R²)"
   ],
   "id": "964ae1d14bd46fe5"
  },
  {
   "metadata": {
    "ExecuteTime": {
     "end_time": "2025-05-22T05:14:06.359648Z",
     "start_time": "2025-05-22T05:14:06.138696Z"
    }
   },
   "cell_type": "code",
   "source": [
    "X_train, X_val, y_train, y_val = train_test_split(X_processed, y, test_size=0.2, random_state=42)\n",
    "\n",
    "def evaluate_model(name, model, X_train, X_val, y_train, y_val):\n",
    "    model.fit(X_train, y_train)\n",
    "    preds = model.predict(X_val)\n",
    "    mae = mean_absolute_error(y_val, preds)\n",
    "    rmse = np.sqrt(mean_squared_error(y_val, preds))  # исправленный RMSE\n",
    "    r2 = r2_score(y_val, preds)\n",
    "    print(f\"{name}:\")\n",
    "    print(f\"  MAE: {mae:.3f}\")\n",
    "    print(f\"  RMSE: {rmse:.3f}\")\n",
    "    print(f\"  R²: {r2:.3f}\")\n",
    "    print(\"-\" * 30)\n",
    "    return model, mae, rmse, r2"
   ],
   "id": "5dc44d870b0757a2",
   "outputs": [],
   "execution_count": 11
  },
  {
   "metadata": {},
   "cell_type": "markdown",
   "source": ">Для оценки качества моделей исходный тренировочный набор разбит на две части: обучающую (80%) и валидационную (20%) с помощью train_test_split с фиксированным random_state. Это обеспечивает проверку модели на независимом подмножестве данных, позволяя получить метрики качества до применения к тестовым данным. Размеры выборок после разделения: ~436 строк в обучении и 109 — в валидации.",
   "id": "cfc4f288a627dcb9"
  },
  {
   "metadata": {
    "ExecuteTime": {
     "end_time": "2025-05-22T05:14:06.585229Z",
     "start_time": "2025-05-22T05:14:06.389651Z"
    }
   },
   "cell_type": "code",
   "source": [
    "models = {\n",
    "    \"Linear Regression\": LinearRegression(),\n",
    "    \"Random Forest\": RandomForestRegressor(n_estimators=100, random_state=42),\n",
    "    \"XGBoost\": XGBRegressor(n_estimators=100, learning_rate=0.1, random_state=42)\n",
    "}"
   ],
   "id": "44bcc022166d234c",
   "outputs": [],
   "execution_count": 12
  },
  {
   "metadata": {},
   "cell_type": "markdown",
   "source": [
    "># 2.4 Сравнение моделей\n",
    "- **Исследованы три модели регрессии:**\n",
    "Линейная регрессия (Linear Regression): базовый метод.\n",
    "Случайный лес (Random Forest Regressor): ансамбль деревьев (применён стандартный без настройки гиперпараметров, random_state для воспроизводимости).\n",
    "XGBoost (градиентный бустинг): продвинутый бустинг на деревьях (использовался XGBRegressor).\n"
   ],
   "id": "ada33732f1864f4a"
  },
  {
   "metadata": {
    "ExecuteTime": {
     "end_time": "2025-05-22T05:14:11.443254Z",
     "start_time": "2025-05-22T05:14:06.634602Z"
    }
   },
   "cell_type": "code",
   "source": [
    "results = {}\n",
    "for name, model in models.items():\n",
    "    results[name] = evaluate_model(name, model, X_train, X_val, y_train, y_val)"
   ],
   "id": "a24633de153fc54c",
   "outputs": [
    {
     "name": "stdout",
     "output_type": "stream",
     "text": [
      "Linear Regression:\n",
      "  MAE: 0.978\n",
      "  RMSE: 2.068\n",
      "  R²: 0.998\n",
      "------------------------------\n",
      "Random Forest:\n",
      "  MAE: 0.212\n",
      "  RMSE: 0.280\n",
      "  R²: 1.000\n",
      "------------------------------\n",
      "XGBoost:\n",
      "  MAE: 0.321\n",
      "  RMSE: 0.406\n",
      "  R²: 1.000\n",
      "------------------------------\n"
     ]
    }
   ],
   "execution_count": 13
  },
  {
   "metadata": {},
   "cell_type": "markdown",
   "source": [
    "Каждая модель обучалась на одинаковой предобработанной выборке и предсказывала Happiness_Score на валидационном наборе. Рассчитаны ключевые метрики: MAE, RMSE и R²:\n",
    "- **Linear Regression:** MAE ≈ 0.978, RMSE ≈ 2.068, R² ≈ 0.998.\n",
    "- **Random Forest:** MAE ≈ 0.212, RMSE ≈ 0.280, R² ≈ 0.9999 (~1.000).\n",
    "- **XGBoost:** MAE ≈ 0.321, RMSE ≈ 0.406, R² ≈ 0.9999 (~1.000).\n",
    "\n",
    "**Выводы по моделям:**\n",
    "- Linear Regression продемонстрировала хорошие показатели (очень высокий R² ~0.998), но ошибка (RMSE ~2.07) значительно больше, чем у ансамблей. Это говорит о том, что линейная модель не улавливает все нюансы зависимостей.\n",
    "- Random Forest показал практически идеальное соответствие прогнозов реальным (R² ~1.000, очень низкие MAE и RMSE), что указывает на очень точное моделирование (возможно, даже переобучение на тренировочных данных).\n",
    "- XGBoost также достиг R² ~1.000, немного уступая по точности случайному лесу (MAE ~0.321 против 0.212 у RF). Оба бустинга превзошли линейную регрессию.\n",
    "> Модель Random Forest оказалась лучшей по всем метрикам (самая низкая MAE/RMSE, наибольший R²), демонстрируя минимальную среднюю ошибку и практически полное попадание в истинные значения на валидации."
   ],
   "id": "ed02765e38a6693"
  },
  {
   "metadata": {},
   "cell_type": "markdown",
   "source": "># 2.5 Важность признаков (feature importances)",
   "id": "2cbff8e3179b66d8"
  },
  {
   "metadata": {
    "ExecuteTime": {
     "end_time": "2025-05-22T05:14:12.213075Z",
     "start_time": "2025-05-22T05:14:11.495587Z"
    }
   },
   "cell_type": "code",
   "source": [
    "rf_model = results[\"Random Forest\"][0]\n",
    "importances = rf_model.feature_importances_\n",
    "feature_names = preprocessor.get_feature_names_out()\n",
    "\n",
    "feature_df = pd.DataFrame({\"Feature\": feature_names, \"Importance\": importances})\n",
    "feature_df = feature_df.sort_values(by=\"Importance\", ascending=False)\n",
    "\n",
    "plt.figure(figsize=(10, 6))\n",
    "sns.barplot(data=feature_df.head(15), x=\"Importance\", y=\"Feature\")\n",
    "plt.title(\"Важность признаков (Random Forest)\")\n",
    "plt.show()\n"
   ],
   "id": "178b572a2ce45d5a",
   "outputs": [
    {
     "data": {
      "text/plain": [
       "<Figure size 1000x600 with 1 Axes>"
      ],
      "image/png": "[encoded data removed]"
     },
     "metadata": {},
     "output_type": "display_data"
    }
   ],
   "execution_count": 14
  },
  {
   "metadata": {},
   "cell_type": "markdown",
   "source": [
    "По результатам случайного леса были получены оценки важности признаков (feature importances). Наиболее существенными факторами, влияющими на Happiness_Score, оказались:\n",
    "> - **Green_Space_Area (площадь зелёных зон):** самый высокий вклад. Хотя корреляция с Happiness_Score отрицательная, в модели переменная оказалась ключевой (в соответствии с данными — чем больше зелёной зоны в городе, тем ниже индекс счастья).\n",
    "> - **Year (год):** очень сильная важность, так как по данным счастье сильно зависит от года (тренд на уменьшение счастья с течением времени).\n",
    "> - **Cost_of_Living_Index:** значимый вклад — города с более высокой стоимостью жизни ассоциировались с большим Happiness_Score.\n",
    "> - **Air_Quality_Index:** заметный вес (лучшая экология повышает счастье).\n",
    "> - Остальные признаки (Decibel_Level, Healthcare_Index, параметры трафика и географические признаки) влияют слабее. Например, Decibel_Level и Healthcare_Index дали умеренный вклад, а такие категории, как Month, Traffic_Density, City, — относительно малый (информация о них, возможно, перекрывается другими данными или обученная модель не сочла их очень информативными).\n",
    "\n",
    "Визуализируя важности (например, горизонтальной столбчатой диаграммой), видно, что топ-2 признака по вкладу — Green_Space_Area и Year. Это логично с учётом сильных линейных зависимостей, обнаруженных на этапе корреляционного анализа."
   ],
   "id": "d6b37250d439b59f"
  },
  {
   "metadata": {},
   "cell_type": "markdown",
   "source": [
    "# __Часть 3 — Финальный прогноз и сохранение результата__\n",
    "\n",
    ">#     4.1 Прогноз на тестовом наборе"
   ],
   "id": "eb049483dff480a4"
  },
  {
   "metadata": {
    "ExecuteTime": {
     "end_time": "2025-05-22T05:14:12.435474Z",
     "start_time": "2025-05-22T05:14:12.264297Z"
    }
   },
   "cell_type": "code",
   "source": [
    "final_model = rf_model  # лучшая модель по метрикам\n",
    "final_predictions = final_model.predict(test_processed)"
   ],
   "id": "7df652d465286651",
   "outputs": [
    {
     "data": {
      "text/plain": [
       "        City    Month  Year  Decibel_Level Traffic_Density  Green_Space_Area  \\\n",
       "0   Auckland  January  2030             55             Low                80   \n",
       "1     Berlin  January  2030             50             Low                60   \n",
       "2      Cairo  January  2030             75       Very High                15   \n",
       "3     Denver  January  2030             60          Medium                40   \n",
       "4  Edinburgh  January  2030             55             Low                65   \n",
       "\n",
       "   Air_Quality_Index  Happiness_Score  Cost_of_Living_Index  Healthcare_Index  \\\n",
       "0                 40              8.4                   110                97   \n",
       "1                 45              7.9                    80                93   \n",
       "2                110              4.1                    55                69   \n",
       "3                 50              7.5                    95                89   \n",
       "4                 55              7.8                    85                92   \n",
       "\n",
       "   Predicted_Happiness_Score  \n",
       "0                      6.539  \n",
       "1                      6.477  \n",
       "2                      4.295  \n",
       "3                      5.796  \n",
       "4                      6.406  "
      ],
      "text/html": [
       "<div>\n",
       "<style scoped>\n",
       "    .dataframe tbody tr th:only-of-type {\n",
       "        vertical-align: middle;\n",
       "    }\n",
       "\n",
       "    .dataframe tbody tr th {\n",
       "        vertical-align: top;\n",
       "    }\n",
       "\n",
       "    .dataframe thead th {\n",
       "        text-align: right;\n",
       "    }\n",
       "</style>\n",
       "<table border=\"1\" class=\"dataframe\">\n",
       "  <thead>\n",
       "    <tr style=\"text-align: right;\">\n",
       "      <th></th>\n",
       "      <th>City</th>\n",
       "      <th>Month</th>\n",
       "      <th>Year</th>\n",
       "      <th>Decibel_Level</th>\n",
       "      <th>Traffic_Density</th>\n",
       "      <th>Green_Space_Area</th>\n",
       "      <th>Air_Quality_Index</th>\n",
       "      <th>Happiness_Score</th>\n",
       "      <th>Cost_of_Living_Index</th>\n",
       "      <th>Healthcare_Index</th>\n",
       "      <th>Predicted_Happiness_Score</th>\n",
       "    </tr>\n",
       "  </thead>\n",
       "  <tbody>\n",
       "    <tr>\n",
       "      <th>0</th>\n",
       "      <td>Auckland</td>\n",
       "      <td>January</td>\n",
       "      <td>2030</td>\n",
       "      <td>55</td>\n",
       "      <td>Low</td>\n",
       "      <td>80</td>\n",
       "      <td>40</td>\n",
       "      <td>8.4</td>\n",
       "      <td>110</td>\n",
       "      <td>97</td>\n",
       "      <td>6.539</td>\n",
       "    </tr>\n",
       "    <tr>\n",
       "      <th>1</th>\n",
       "      <td>Berlin</td>\n",
       "      <td>January</td>\n",
       "      <td>2030</td>\n",
       "      <td>50</td>\n",
       "      <td>Low</td>\n",
       "      <td>60</td>\n",
       "      <td>45</td>\n",
       "      <td>7.9</td>\n",
       "      <td>80</td>\n",
       "      <td>93</td>\n",
       "      <td>6.477</td>\n",
       "    </tr>\n",
       "    <tr>\n",
       "      <th>2</th>\n",
       "      <td>Cairo</td>\n",
       "      <td>January</td>\n",
       "      <td>2030</td>\n",
       "      <td>75</td>\n",
       "      <td>Very High</td>\n",
       "      <td>15</td>\n",
       "      <td>110</td>\n",
       "      <td>4.1</td>\n",
       "      <td>55</td>\n",
       "      <td>69</td>\n",
       "      <td>4.295</td>\n",
       "    </tr>\n",
       "    <tr>\n",
       "      <th>3</th>\n",
       "      <td>Denver</td>\n",
       "      <td>January</td>\n",
       "      <td>2030</td>\n",
       "      <td>60</td>\n",
       "      <td>Medium</td>\n",
       "      <td>40</td>\n",
       "      <td>50</td>\n",
       "      <td>7.5</td>\n",
       "      <td>95</td>\n",
       "      <td>89</td>\n",
       "      <td>5.796</td>\n",
       "    </tr>\n",
       "    <tr>\n",
       "      <th>4</th>\n",
       "      <td>Edinburgh</td>\n",
       "      <td>January</td>\n",
       "      <td>2030</td>\n",
       "      <td>55</td>\n",
       "      <td>Low</td>\n",
       "      <td>65</td>\n",
       "      <td>55</td>\n",
       "      <td>7.8</td>\n",
       "      <td>85</td>\n",
       "      <td>92</td>\n",
       "      <td>6.406</td>\n",
       "    </tr>\n",
       "  </tbody>\n",
       "</table>\n",
       "</div>"
      ]
     },
     "execution_count": 15,
     "metadata": {},
     "output_type": "execute_result"
    }
   ],
   "execution_count": 15
  },
  {
   "metadata": {},
   "cell_type": "markdown",
   "source": "># 4.2 Формирование файла submission.csv",
   "id": "98fcb8bd4f88a96e"
  },
  {
   "metadata": {},
   "cell_type": "code",
   "outputs": [],
   "execution_count": null,
   "source": [
    "submission = test.copy()\n",
    "submission[\"Predicted_Happiness_Score\"] = final_predictions\n",
    "submission.to_csv(\"submission.csv\", index=False)\n",
    "submission.head()"
   ],
   "id": "4005264cc1a5c58e"
  },
  {
   "metadata": {},
   "cell_type": "markdown",
   "source": "",
   "id": "f0b052c55acade0b"
  },
  {
   "metadata": {},
   "cell_type": "markdown",
   "source": "># 4.3 Выводы по проекту",
   "id": "7db0116268590632"
  },
  {
   "metadata": {},
   "cell_type": "markdown",
   "source": [
    "\n",
    "**Итоговые выводы:**\n",
    "> - Все рассмотренные модели показали очень высокую точность на валидации (R² ≈ 0.998–1.000). Линейная регрессия выступила хуже (более высокая ошибка), чем ансамблевые модели (Random Forest и XGBoost).\n",
    "\n",
    "> - Лучшей моделью по качеству предсказания стал Random Forest (самый низкий MAE/RMSE и R² ≈ 1.0).\n",
    "\n",
    "> - Модель XGBoost также продемонстрировала отличные результаты (немного хуже RF, но существенно лучше линейной регрессии).\n",
    "\n",
    "> - Поскольку ансамблевые модели фактически «выучили» данные практически без ошибок, следует проверить, не приводит ли это к переобучению, особенно учитывая небольшой размер датасета и необычный характер распределения Happiness_Score.\n",
    "\n",
    "> - Для практического применения стоит проверить модели на дополнительных данных или с регуляризацией, чтобы убедиться в обобщающей способности. Тем не менее, текущие результаты свидетельствуют о том, что городские показатели (Year, зелёные зоны, стоимость жизни и др.) могут очень сильно влиять на индекс счастья в данной выборке."
   ],
   "id": "2e884896c974c53e"
  }
 ],
 "metadata": {
  "kernelspec": {
   "display_name": "Python 3",
   "language": "python",
   "name": "python3"
  },
  "language_info": {
   "codemirror_mode": {
    "name": "ipython",
    "version": 2
   },
   "file_extension": ".py",
   "mimetype": "text/x-python",
   "name": "python",
   "nbconvert_exporter": "python",
   "pygments_lexer": "ipython2",
   "version": "2.7.6"
  }
 },
 "nbformat": 4,
 "nbformat_minor": 5
}
